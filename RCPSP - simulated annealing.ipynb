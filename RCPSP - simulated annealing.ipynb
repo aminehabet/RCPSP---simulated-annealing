{
 "cells": [
  {
   "cell_type": "code",
   "execution_count": 1,
   "metadata": {},
   "outputs": [],
   "source": [
    "import numpy as np\n",
    "import matplotlib.pyplot as plt\n",
    "from copy import deepcopy as deepcopy\n",
    "import random as rd\n"
   ]
  },
  {
   "cell_type": "markdown",
   "metadata": {},
   "source": [
    "# DATA"
   ]
  },
  {
   "cell_type": "code",
   "execution_count": 2,
   "metadata": {},
   "outputs": [],
   "source": [
    "data = {}\n",
    "\n",
    "data['N'] = 4 #количество подпроцессов\n",
    "data['D'] = 19 #крайний срок выполнения всех подпроцессов\n",
    "data['task'] = [] \n",
    "data['time'] = []\n",
    "data['r'] =[np.random.randint(1, 5) for i in range(data['N'])]  #количество сотрудников, необходимых для выполнения подпроцессаi,\n",
    "data['R'] = 20 # общее количество сотрудников\n",
    "data['s'] = [np.random.randint(1,10) for i in range(data['N'])]  #продолжительность подпроцесса i\n",
    "data['Q'] =[[0,0,0,0],[0,0,0,0],[0,0,0,0],[0,0,0,0]] #1 если подпроцесс i выполнена после подпроцесс j; 0 иначе; \n",
    "\n",
    "for i in range(1, data['N'] + 1):\n",
    "    data['task'].append(i)\n",
    "\n",
    "for i in range(1, data['D'] + 1):\n",
    "    data['time'].append(i)\n"
   ]
  },
  {
   "cell_type": "code",
   "execution_count": 3,
   "metadata": {},
   "outputs": [
    {
     "data": {
      "text/plain": [
       "{'N': 4,\n",
       " 'D': 19,\n",
       " 'task': [1, 2, 3, 4],\n",
       " 'time': [1, 2, 3, 4, 5, 6, 7, 8, 9, 10, 11, 12, 13, 14, 15, 16, 17, 18, 19],\n",
       " 'r': [4, 2, 1, 4],\n",
       " 'R': 20,\n",
       " 's': [8, 1, 9, 6],\n",
       " 'Q': [[0, 0, 0, 0], [0, 0, 0, 0], [0, 0, 0, 0], [0, 0, 0, 0]]}"
      ]
     },
     "execution_count": 3,
     "metadata": {},
     "output_type": "execute_result"
    }
   ],
   "source": [
    "data"
   ]
  },
  {
   "cell_type": "markdown",
   "metadata": {},
   "source": [
    "# Proposed solution"
   ]
  },
  {
   "cell_type": "code",
   "execution_count": 4,
   "metadata": {},
   "outputs": [],
   "source": [
    "var = {}\n",
    "\n",
    "var['h'] = [1, 3, 5, 7] #время начала подпроцесса i;\n",
    "var['x'] = []  #1 если подпроцесс i выполняется в момент времени t; 0 иначе;\n",
    "var['tmax'] = 0 #общая продолжительность процесса по времени.;"
   ]
  },
  {
   "cell_type": "code",
   "execution_count": 5,
   "metadata": {},
   "outputs": [],
   "source": [
    "'''\n",
    "Функция x_filling позволяет нам заполнить \n",
    "матрицу x размера (N, D) из вектора h размера N, \n",
    "а входные данные data\n",
    "'''\n",
    "def x_filling (data, var):\n",
    "    for i in range(data['N']):\n",
    "        L = []\n",
    "        a = var['h'][i]\n",
    "        b = data['s'][i]\n",
    "        for j in range(data['D']):\n",
    "            if j >= a - 1 and j <= a + b - 2:\n",
    "                L.append(1)\n",
    "            else:\n",
    "                L.append(0)\n",
    "        var['x'].append(L)\n",
    "    return var['x']\n",
    "\n",
    "'''\n",
    "Функция tmax_filling позволяет нам вычислить значение tmax\n",
    "из вектора h размера N, а входные данные data\n",
    "'''\n",
    "def tmax_filling(data, var):\n",
    "    tmax = 0\n",
    "    for i in range(data['N']):\n",
    "        if (var['h'][i]+data['s'][i]) > tmax:\n",
    "            tmax = var['h'][i]+data['s'][i] - 1\n",
    "    return tmax"
   ]
  },
  {
   "cell_type": "code",
   "execution_count": 6,
   "metadata": {},
   "outputs": [],
   "source": [
    "var['x'] = x_filling (data, var)\n",
    "var['tmax'] = tmax_filling (data, var)"
   ]
  },
  {
   "cell_type": "code",
   "execution_count": 7,
   "metadata": {},
   "outputs": [
    {
     "data": {
      "text/plain": [
       "{'h': [1, 3, 5, 7],\n",
       " 'x': [[1, 1, 1, 1, 1, 1, 1, 1, 0, 0, 0, 0, 0, 0, 0, 0, 0, 0, 0],\n",
       "  [0, 0, 1, 0, 0, 0, 0, 0, 0, 0, 0, 0, 0, 0, 0, 0, 0, 0, 0],\n",
       "  [0, 0, 0, 0, 1, 1, 1, 1, 1, 1, 1, 1, 1, 0, 0, 0, 0, 0, 0],\n",
       "  [0, 0, 0, 0, 0, 0, 1, 1, 1, 1, 1, 1, 0, 0, 0, 0, 0, 0, 0]],\n",
       " 'tmax': 13}"
      ]
     },
     "execution_count": 7,
     "metadata": {},
     "output_type": "execute_result"
    }
   ],
   "source": [
    "var"
   ]
  },
  {
   "cell_type": "markdown",
   "metadata": {},
   "source": [
    "# MILP Model"
   ]
  },
  {
   "cell_type": "code",
   "execution_count": 8,
   "metadata": {},
   "outputs": [],
   "source": [
    "'''\n",
    " функция, которая возвращает True, если все ограничения моделя  \n",
    " соблюдены (если введенное решение выполнимо), и False в противном случае.\n",
    "'''\n",
    "\n",
    "def Model(data, var):\n",
    "    M = 2500\n",
    "    flag = True\n",
    "    #(1) Весь процесс должен быть завершен до крайнего срока\n",
    "    if var['tmax'] <= data['D']:\n",
    "        flag = True\n",
    "    else:\n",
    "        return False\n",
    "    \n",
    "    #(2) Общая продолжительность процесса должна быть больше или равна дате окончания подпроцесса i.\n",
    "    for i in range(data['N']):\n",
    "        if var['tmax'] >= var['h'][i] + data['s'][i] - 1:\n",
    "            flag = True\n",
    "        else:\n",
    "            return False\n",
    "    \n",
    "    #(3) Если подпроцесс j предшествует подпроцесса i, то подпроцесс i может начаться \n",
    "    #только после завершения подпроцесса j.\n",
    "    for i in range(data['N']):\n",
    "        for j in range(data['N']):\n",
    "            if data['Q'][i][j] * var['h'][i] >= data['Q'][i][j] *  (var['h'][j] + data['s'][j]):\n",
    "                flag = True\n",
    "            else:\n",
    "                return False\n",
    "            \n",
    "    #(4) Общее время выполнения подпроцесса должно быть равно времени ее завершения.\n",
    "    for i in range(data['N']):\n",
    "        if sum(var['x'][i]) == data['s'][i]:\n",
    "            flag = True\n",
    "        else:\n",
    "            return False\n",
    "        \n",
    "    #(5) количество сотрудников, занятых в момент t, меньше или равно общему количеству сотрудников.\n",
    "    for t in range(data['D']):\n",
    "        employee = 0\n",
    "        for i in range(data['N']):\n",
    "            employee = employee + data['r'][i] * var['x'][i][t]\n",
    "        if employee <= data['R']:\n",
    "            flag = True\n",
    "        else:\n",
    "            return False\n",
    "    #(6) (7) общая продолжительность выполнения подпроцесса i должна быть между временем начала и временем окончания.\n",
    "    for i in range(1, data['N'] + 1):\n",
    "        for t in range(1, data['D'] + 1):\n",
    "            if t * var['x'][i -1][t - 1] + (1 - var['x'][i - 1][t - 1]) * M >= var['h'][i - 1]:\n",
    "                flag = True\n",
    "            else:\n",
    "                return False\n",
    "    \n",
    "    for i in range(1, data['N'] + 1):\n",
    "        for t in range(1, data['D'] + 1):\n",
    "            if t * var['x'][i -1][t - 1] - (1 - var['x'][i - 1][t - 1]) * M <= var['h'][i - 1] + data['s'][i - 1] - 1:\n",
    "                flag = True\n",
    "            else:\n",
    "                return False\n",
    "        \n",
    "    return flag\n",
    "    \n",
    "    "
   ]
  },
  {
   "cell_type": "code",
   "execution_count": 9,
   "metadata": {},
   "outputs": [
    {
     "data": {
      "text/plain": [
       "True"
      ]
     },
     "execution_count": 9,
     "metadata": {},
     "output_type": "execute_result"
    }
   ],
   "source": [
    "Model(data, var)"
   ]
  },
  {
   "cell_type": "markdown",
   "metadata": {},
   "source": [
    "# Visualization of the solution"
   ]
  },
  {
   "cell_type": "code",
   "execution_count": 10,
   "metadata": {},
   "outputs": [],
   "source": [
    "def Visual(data, var):  \n",
    "    # Declaring a figure \"gnt\" \n",
    "    fig, gnt = plt.subplots(figsize=(15, 15)) \n",
    "      \n",
    "    # Setting Y-axis limits \n",
    "    gnt.set_ylim(0, data['N'] + 2) \n",
    "      \n",
    "    # Setting X-axis limits \n",
    "    gnt.set_xlim(0, data['D'] + 2) \n",
    "      \n",
    "    # Setting labels for x-axis and y-axis \n",
    "    gnt.set_xlabel('time') \n",
    "    gnt.set_ylabel('processes') \n",
    "    \n",
    "    # Setting graph attribute \n",
    "    gnt.grid(True) \n",
    "    \n",
    "    # Declaring multiple bars  \n",
    "    for i in range(1,(data['N'])+1):\n",
    "        gnt.broken_barh([(var['h'][i-1], data['s'][i-1])], (i, 1),\n",
    "                                                  facecolors =('black'))\n",
    "    plt.axvline(x = var['tmax'] +1, color = 'green', alpha = 0.5, linestyle = '--', linewidth = 4)\n",
    "    plt.axvline(x = data['D'] +1, color = 'red', alpha = 0.5, linestyle = '--', linewidth = 4)"
   ]
  },
  {
   "cell_type": "code",
   "execution_count": 11,
   "metadata": {},
   "outputs": [
    {
     "data": {
      "image/png": "[encoded data removed]",
      "text/plain": [
       "<Figure size 1080x1080 with 1 Axes>"
      ]
     },
     "metadata": {
      "needs_background": "light"
     },
     "output_type": "display_data"
    }
   ],
   "source": [
    "if Model(data, var) == True:\n",
    "    Visual(data, var)"
   ]
  },
  {
   "cell_type": "markdown",
   "metadata": {},
   "source": [
    "# simulated annealing algorithm"
   ]
  },
  {
   "cell_type": "code",
   "execution_count": 12,
   "metadata": {},
   "outputs": [],
   "source": [
    "def solutionRate(var):\n",
    "    N = len(var['h'])\n",
    "    output = var['tmax'] \n",
    "    return float(output/N)"
   ]
  },
  {
   "cell_type": "code",
   "execution_count": 13,
   "metadata": {},
   "outputs": [
    {
     "data": {
      "text/plain": [
       "3.25"
      ]
     },
     "execution_count": 13,
     "metadata": {},
     "output_type": "execute_result"
    }
   ],
   "source": [
    "solutionRate(var)"
   ]
  },
  {
   "cell_type": "code",
   "execution_count": 14,
   "metadata": {},
   "outputs": [],
   "source": [
    "def generate(data, beta = 4):\n",
    "    newSolution = [np.random.randint(1,beta) for i in range(data['N'])] \n",
    "    return newSolution"
   ]
  },
  {
   "cell_type": "code",
   "execution_count": 15,
   "metadata": {},
   "outputs": [],
   "source": [
    "def improveSolution(niter,s0, generate, T):\n",
    "    s = deepcopy(s0)\n",
    "    rate = solutionRate(s)\n",
    "    rates = [rate]\n",
    "    newVar = {}\n",
    "    newVar['h'] = []\n",
    "    newVar['x'] = []\n",
    "    newVar['tmax'] = 0\n",
    "    \n",
    "    for n in range(niter):\n",
    "        setoile = generate(data)\n",
    "        \n",
    "        newVar['x'].clear()\n",
    "        newVar['h'] = setoile\n",
    "        newVar['x'] = x_filling (data, newVar)\n",
    "        newVar['tmax'] = tmax_filling (data, newVar)\n",
    "        \n",
    "        if Model(data, newVar) == True:\n",
    "            delta = solutionRate(newVar) - rate\n",
    "            if  delta < 0:\n",
    "                s = setoile\n",
    "                rate = solutionRate(newVar)\n",
    "            else:\n",
    "                a = rd.random()\n",
    "                if a < np.exp(-delta/T(n)):\n",
    "                    s = setoile\n",
    "                    rate = solutionRate(newVar)\n",
    "            rates.append(rate)\n",
    "    return s,rates"
   ]
  },
  {
   "cell_type": "code",
   "execution_count": 16,
   "metadata": {},
   "outputs": [],
   "source": [
    "def simulatedAnnealing(var, niter,  Temperature, data):\n",
    "    s_sim, rate_sim = improveSolution(niter, var, generate,Temperature)\n",
    "    rates = rate_sim[-1]\n",
    "    return s_sim, rates"
   ]
  },
  {
   "cell_type": "code",
   "execution_count": 17,
   "metadata": {},
   "outputs": [],
   "source": [
    "def Temp(n,alpha=.6):\n",
    "    return max(100 *  (alpha**(n+1)), 10**(-18))"
   ]
  },
  {
   "cell_type": "code",
   "execution_count": 18,
   "metadata": {},
   "outputs": [],
   "source": [
    "test = simulatedAnnealing(var, 1000,  Temp, data)"
   ]
  },
  {
   "cell_type": "code",
   "execution_count": 19,
   "metadata": {},
   "outputs": [
    {
     "data": {
      "text/plain": [
       "([2, 2, 1, 2], 2.25)"
      ]
     },
     "execution_count": 19,
     "metadata": {},
     "output_type": "execute_result"
    }
   ],
   "source": [
    "test\n"
   ]
  },
  {
   "cell_type": "code",
   "execution_count": 20,
   "metadata": {},
   "outputs": [],
   "source": [
    "simVar = {}\n",
    "simVar['h'] = test[0]\n",
    "simVar['x'] = []\n",
    "simVar['tmax'] = 0\n",
    "simVar['x'] =  x_filling (data, simVar)\n",
    "simVar['tmax'] = tmax_filling (data, simVar)"
   ]
  },
  {
   "cell_type": "code",
   "execution_count": 21,
   "metadata": {},
   "outputs": [
    {
     "data": {
      "image/png": "[encoded data removed]",
      "text/plain": [
       "<Figure size 1080x1080 with 1 Axes>"
      ]
     },
     "metadata": {
      "needs_background": "light"
     },
     "output_type": "display_data"
    }
   ],
   "source": [
    "Visual(data, simVar)"
   ]
  },
  {
   "cell_type": "code",
   "execution_count": null,
   "metadata": {},
   "outputs": [],
   "source": []
  }
 ],
 "metadata": {
  "kernelspec": {
   "display_name": "Python 3",
   "language": "python",
   "name": "python3"
  },
  "language_info": {
   "codemirror_mode": {
    "name": "ipython",
    "version": 3
   },
   "file_extension": ".py",
   "mimetype": "text/x-python",
   "name": "python",
   "nbconvert_exporter": "python",
   "pygments_lexer": "ipython3",
   "version": "3.8.2"
  }
 },
 "nbformat": 4,
 "nbformat_minor": 4
}
